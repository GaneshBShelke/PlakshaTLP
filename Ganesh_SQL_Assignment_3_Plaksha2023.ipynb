{
  "cells": [
    {
      "cell_type": "markdown",
      "id": "b3d08535",
      "metadata": {
        "id": "b3d08535"
      },
      "source": [
        "<img src=\"https://raw.githubusercontent.com/afo/data-x-plaksha/master/imgsource/dx_logo.png\" align=\"left\"></img><br><br><br><br>"
      ]
    },
    {
      "cell_type": "markdown",
      "id": "4c408082",
      "metadata": {
        "id": "4c408082"
      },
      "source": [
        "## Plaksha SQL assignment"
      ]
    },
    {
      "cell_type": "markdown",
      "id": "7f7d4113-c3a9-47b2-b7df-b844d49abd22",
      "metadata": {
        "id": "7f7d4113-c3a9-47b2-b7df-b844d49abd22"
      },
      "source": [
        "---\n",
        "\n",
        "## Submission details:\n",
        "\n",
        "Please submit this as a Jupyter Notebook and a PDF of your results (both should show output). Also push your solutions to Github.\n",
        "\n",
        "For the submision create a local database with `sqlite3` or `sqlalchemy` in a Jupyter notebook and make the queries either with a cursor object (and then print the results) or by using pandas `pd.read_sql_query()`."
      ]
    },
    {
      "cell_type": "markdown",
      "id": "0c551f03-7eff-43e2-89a7-a53b54098223",
      "metadata": {
        "id": "0c551f03-7eff-43e2-89a7-a53b54098223"
      },
      "source": [
        "___\n",
        "\n",
        "When completing this homework you can experiment with SQL commands by utilizing this great online editor:\n",
        "\n",
        "https://www.w3schools.com/sql/trysql.asp?filename=trysql_select_all\n",
        "\n",
        "There are already some tables in the online Database, namely:\n",
        "\n",
        "`Categories, Employees, OrderDetails, Orders, Products, Shippers, and Suppliers.`\n",
        "\n",
        "If you want you can drop them by running  `DROP TABLE [table-name];` (or just keep them)."
      ]
    },
    {
      "cell_type": "markdown",
      "id": "dccc820f-21b0-4b2c-9ca8-9cb9eab76023",
      "metadata": {
        "id": "dccc820f-21b0-4b2c-9ca8-9cb9eab76023"
      },
      "source": [
        "# Exercises:\n",
        "\n",
        "First create a table called students. It has the columns: 'student_id', 'name', 'major', 'gpa' and 'enrollment_date' We will use a new form of `CREATE TABLE` expression to produce this table.\n",
        "\n",
        "Note that you can improve this and are welcome to do so -- e.g. by specifying for example a PRIMARY KEY and a FOREIGN KEY in Q2 :)\n",
        "\n",
        "    CREATE TABLE students AS\n",
        "        SELECT 1 AS student_id, \"John\" AS name, \"Computer Science\" AS major, 3.5 AS gpa, \"01-01-2022\" AS enrollment_date UNION\n",
        "        SELECT 2, \"Jane\", \"Physics\", 3.8, \"01-02-2022\" UNION\n",
        "        SELECT 3, \"Bob\", \"Engineering\", 3.0, \"01-03-2022\" UNION\n",
        "        SELECT 4, \"Samantha\", \"Physics\", 3.9, \"01-04-2022\" UNION\n",
        "        SELECT 5, \"James\", \"Engineering\", 3.7, \"01-05-2022\" UNION\n",
        "        SELECT 6, \"Emily\", \"Computer Science\", 3.6, \"01-06-2022\" UNION\n",
        "        SELECT 7, \"Michael\", \"Computer Science\", 3.2, \"01-07-2022\" UNION\n",
        "        SELECT 8, \"Jessica\", \"Engineering\", 3.8, \"01-08-2022\" UNION\n",
        "        SELECT 9, \"Jacob\", \"Physics\", 3.4, \"01-09-2022\" UNION\n",
        "        SELECT 10, \"Ashley\", \"Physics\", 3.9, \"01-10-2022\";\n"
      ]
    },
    {
      "cell_type": "markdown",
      "source": [
        "\n",
        "## Q1 Simple SELECTS (on the students table)\n",
        "1. SELECT all records in the table.\n",
        "2. SELECT students whose major is \"Computer Science\".\n",
        "3. SELECT all unique majors (use SELECT DISTINCT) and order them by name, descending order (i.e. Physics first).\n",
        "4. SELECT all students that have an 'e' in their name and order them by gpa in ascending order.\n"
      ],
      "metadata": {
        "id": "yWZNArjSLT0W"
      },
      "id": "yWZNArjSLT0W"
    },
    {
      "cell_type": "code",
      "source": [
        "# Import libraries\n",
        "import sqlite3\n",
        "import pandas as pd"
      ],
      "metadata": {
        "id": "B9usCTBUnF8V"
      },
      "id": "B9usCTBUnF8V",
      "execution_count": 2,
      "outputs": []
    },
    {
      "cell_type": "code",
      "source": [
        "# Connect to the database\n",
        "conn = sqlite3.connect(\"student_db.db\")\n",
        "cursor = conn.cursor()"
      ],
      "metadata": {
        "id": "z1soZk05Jya7"
      },
      "id": "z1soZk05Jya7",
      "execution_count": 3,
      "outputs": []
    },
    {
      "cell_type": "code",
      "source": [
        "# Create students table\n",
        "cursor.execute(\"\"\"\n",
        "CREATE TABLE students (\n",
        "    student_id INTEGER PRIMARY KEY,\n",
        "    name TEXT NOT NULL,\n",
        "    major TEXT NOT NULL,\n",
        "    gpa REAL NOT NULL,\n",
        "    enrollment_date TEXT NOT NULL\n",
        ");\n",
        "\"\"\")"
      ],
      "metadata": {
        "colab": {
          "base_uri": "https://localhost:8080/"
        },
        "id": "wy1t0-76JyjZ",
        "outputId": "60003d81-fecc-4f6d-bed7-c19108278362"
      },
      "id": "wy1t0-76JyjZ",
      "execution_count": 4,
      "outputs": [
        {
          "output_type": "execute_result",
          "data": {
            "text/plain": [
              "<sqlite3.Cursor at 0x7fb812e95f80>"
            ]
          },
          "metadata": {},
          "execution_count": 4
        }
      ]
    },
    {
      "cell_type": "code",
      "source": [
        "# Insert data into students table\n",
        "cursor.execute(\"\"\"\n",
        "INSERT INTO students (student_id, name, major, gpa, enrollment_date)\n",
        "VALUES\n",
        "    (1, 'John', 'Computer Science', 3.5, '01-01-2022'),\n",
        "    (2, 'Jane', 'Physics', 3.8, '01-02-2022'),\n",
        "    (3, 'Bob', 'Engineering', 3.0, '01-03-2022'),\n",
        "    (4, 'Samantha', 'Physics', 3.9, '01-04-2022'),\n",
        "    (5, 'James', 'Engineering', 3.7, '01-05-2022'),\n",
        "    (6, 'Emily', 'Computer Science', 3.6, '01-06-2022'),\n",
        "    (7, 'Michael', 'Computer Science', 3.2, '01-07-2022'),\n",
        "    (8, 'Jessica', 'Engineering', 3.8, '01-08-2022'),\n",
        "    (9, 'Jacob', 'Physics', 3.4, '01-09-2022'),\n",
        "    (10, 'Ashley', 'Physics', 3.9, '01-10-2022');\n",
        "\"\"\")"
      ],
      "metadata": {
        "colab": {
          "base_uri": "https://localhost:8080/"
        },
        "id": "f__r4yzvJym8",
        "outputId": "a0cf109e-15f4-45e1-deb2-6de62c3e5fbf"
      },
      "id": "f__r4yzvJym8",
      "execution_count": 5,
      "outputs": [
        {
          "output_type": "execute_result",
          "data": {
            "text/plain": [
              "<sqlite3.Cursor at 0x7fb812e95f80>"
            ]
          },
          "metadata": {},
          "execution_count": 5
        }
      ]
    },
    {
      "cell_type": "code",
      "source": [
        "# committing the current transaction. \n",
        "conn.commit()"
      ],
      "metadata": {
        "id": "Ag7BKJciN_ts"
      },
      "id": "Ag7BKJciN_ts",
      "execution_count": 6,
      "outputs": []
    },
    {
      "cell_type": "markdown",
      "source": [
        "### 1. SELECT all records in the table.\n"
      ],
      "metadata": {
        "id": "O840BiAjKX5b"
      },
      "id": "O840BiAjKX5b"
    },
    {
      "cell_type": "code",
      "source": [
        "print(\"1. SELECT all records in the table:\")\n",
        "cursor.execute(\"SELECT * FROM students;\")\n",
        "print(cursor.fetchall())"
      ],
      "metadata": {
        "colab": {
          "base_uri": "https://localhost:8080/"
        },
        "id": "kQ9TeqmIJyqG",
        "outputId": "5121eadf-e314-4589-9f5f-5eb1594d75f1"
      },
      "id": "kQ9TeqmIJyqG",
      "execution_count": 7,
      "outputs": [
        {
          "output_type": "stream",
          "name": "stdout",
          "text": [
            "1. SELECT all records in the table:\n",
            "[(1, 'John', 'Computer Science', 3.5, '01-01-2022'), (2, 'Jane', 'Physics', 3.8, '01-02-2022'), (3, 'Bob', 'Engineering', 3.0, '01-03-2022'), (4, 'Samantha', 'Physics', 3.9, '01-04-2022'), (5, 'James', 'Engineering', 3.7, '01-05-2022'), (6, 'Emily', 'Computer Science', 3.6, '01-06-2022'), (7, 'Michael', 'Computer Science', 3.2, '01-07-2022'), (8, 'Jessica', 'Engineering', 3.8, '01-08-2022'), (9, 'Jacob', 'Physics', 3.4, '01-09-2022'), (10, 'Ashley', 'Physics', 3.9, '01-10-2022')]\n"
          ]
        }
      ]
    },
    {
      "cell_type": "markdown",
      "source": [
        "### 2. SELECT students whose major is \"Computer Science\".\n"
      ],
      "metadata": {
        "id": "kcmWTdm7KdJl"
      },
      "id": "kcmWTdm7KdJl"
    },
    {
      "cell_type": "code",
      "source": [
        "print(\"2. SELECT students whose major is 'Computer Science':\")\n",
        "cursor.execute(\"SELECT * FROM students WHERE major = 'Computer Science';\")\n",
        "print(cursor.fetchall())"
      ],
      "metadata": {
        "colab": {
          "base_uri": "https://localhost:8080/"
        },
        "id": "undSMyWZJytA",
        "outputId": "6e429c7e-96f2-4350-e778-2c6bb325a3f4"
      },
      "id": "undSMyWZJytA",
      "execution_count": 8,
      "outputs": [
        {
          "output_type": "stream",
          "name": "stdout",
          "text": [
            "2. SELECT students whose major is 'Computer Science':\n",
            "[(1, 'John', 'Computer Science', 3.5, '01-01-2022'), (6, 'Emily', 'Computer Science', 3.6, '01-06-2022'), (7, 'Michael', 'Computer Science', 3.2, '01-07-2022')]\n"
          ]
        }
      ]
    },
    {
      "cell_type": "markdown",
      "source": [
        "### 3. SELECT all unique majors and order them by name, descending order"
      ],
      "metadata": {
        "id": "5yo5iVHGKuBH"
      },
      "id": "5yo5iVHGKuBH"
    },
    {
      "cell_type": "code",
      "source": [
        "print(\"3. SELECT all unique majors and order them by name, descending order:\")\n",
        "cursor.execute(\"\"\"\n",
        "SELECT DISTINCT major\n",
        "FROM students\n",
        "ORDER BY major DESC;\n",
        "\"\"\")\n",
        "print(cursor.fetchall())"
      ],
      "metadata": {
        "colab": {
          "base_uri": "https://localhost:8080/"
        },
        "id": "HRBo_XuxJy0N",
        "outputId": "b16b2ae0-2799-4a76-dde9-213ebefd4f8d"
      },
      "id": "HRBo_XuxJy0N",
      "execution_count": 9,
      "outputs": [
        {
          "output_type": "stream",
          "name": "stdout",
          "text": [
            "3. SELECT all unique majors and order them by name, descending order:\n",
            "[('Physics',), ('Engineering',), ('Computer Science',)]\n"
          ]
        }
      ]
    },
    {
      "cell_type": "markdown",
      "source": [
        "\n",
        "### 4. SELECT all students that have an 'e' in their name and order them by gpa in ascending order\n"
      ],
      "metadata": {
        "id": "LKV88vqbKzq5"
      },
      "id": "LKV88vqbKzq5"
    },
    {
      "cell_type": "code",
      "source": [
        "print(\"4. SELECT all students that have an 'e' in their name and order them by gpa in ascending order:\")\n",
        "cursor.execute(\"\"\"\n",
        "SELECT *\n",
        "FROM students\n",
        "WHERE name LIKE '%e%'\n",
        "ORDER BY gpa;\n",
        "\"\"\")\n",
        "print(cursor.fetchall())"
      ],
      "metadata": {
        "colab": {
          "base_uri": "https://localhost:8080/"
        },
        "id": "lJjTJnP7K3Qv",
        "outputId": "06477fcf-4d04-4233-d141-a49f646e43cf"
      },
      "id": "lJjTJnP7K3Qv",
      "execution_count": 10,
      "outputs": [
        {
          "output_type": "stream",
          "name": "stdout",
          "text": [
            "4. SELECT all students that have an 'e' in their name and order them by gpa in ascending order:\n",
            "[(7, 'Michael', 'Computer Science', 3.2, '01-07-2022'), (6, 'Emily', 'Computer Science', 3.6, '01-06-2022'), (5, 'James', 'Engineering', 3.7, '01-05-2022'), (2, 'Jane', 'Physics', 3.8, '01-02-2022'), (8, 'Jessica', 'Engineering', 3.8, '01-08-2022'), (10, 'Ashley', 'Physics', 3.9, '01-10-2022')]\n"
          ]
        }
      ]
    },
    {
      "cell_type": "markdown",
      "source": [
        "## Q2 Joins\n",
        "\n",
        "Create a new table called courses, which indicates the courses taken by the students. \n",
        "\n",
        "Create the table by running:\n",
        "\t\n",
        "    CREATE TABLE courses AS\n",
        "        SELECT 1 AS course_id, \"Python programming\" AS course_name, 1 AS student_id, \"A\" AS grade UNION\n",
        "        SELECT 2, \"Data Structures\", 2, \"B\" UNION\n",
        "        SELECT 3, \"Database Systems\", 3, \"B\" UNION\n",
        "        SELECT 1, \"Python programming\", 4, \"A\" UNION\n",
        "        SELECT 4, \"Quantum Mechanics\", 5, \"C\" UNION\n",
        "        SELECT 1, \"Python programming\", 6, \"F\" UNION\n",
        "        SELECT 2, \"Data Structures\", 7, \"C\" UNION\n",
        "        SELECT 3, \"Database Systems\", 8, \"A\" UNION\n",
        "        SELECT 4, \"Quantum Mechanics\", 9, \"A\" UNION\n",
        "        SELECT 2, \"Data Structures\", 10, \"F\";\n",
        "\n",
        "1. COUNT the number of unique courses.\n",
        "2. JOIN the tables students and courses and COUNT the number of students with the major Computer Science taking the course Python programming.\n",
        "3. JOIN the tables students and courses and select the students who have grades higher than \"C\", only show their name, major, gpa, course_name and grade.\n"
      ],
      "metadata": {
        "id": "N5cKuVfGJaHq"
      },
      "id": "N5cKuVfGJaHq"
    },
    {
      "cell_type": "code",
      "source": [
        "# Create the courses table\n",
        "conn.execute('''\n",
        "CREATE TABLE courses AS\n",
        "    SELECT 1 AS course_id, \"Python programming\" AS course_name, 1 AS student_id, \"A\" AS grade UNION\n",
        "    SELECT 2, \"Data Structures\", 2, \"B\" UNION\n",
        "    SELECT 3, \"Database Systems\", 3, \"B\" UNION\n",
        "    SELECT 1, \"Python programming\", 4, \"A\" UNION\n",
        "    SELECT 4, \"Quantum Mechanics\", 5, \"C\" UNION\n",
        "    SELECT 1, \"Python programming\", 6, \"F\" UNION\n",
        "    SELECT 2, \"Data Structures\", 7, \"C\" UNION\n",
        "    SELECT 3, \"Database Systems\", 8, \"A\" UNION\n",
        "    SELECT 4, \"Quantum Mechanics\", 9, \"A\" UNION\n",
        "    SELECT 2, \"Data Structures\", 10, \"F\";\n",
        "''')"
      ],
      "metadata": {
        "colab": {
          "base_uri": "https://localhost:8080/"
        },
        "id": "IJRv3dqqqbzX",
        "outputId": "af9ca1ce-1fff-47c8-ec23-48bb95917c42"
      },
      "id": "IJRv3dqqqbzX",
      "execution_count": 11,
      "outputs": [
        {
          "output_type": "execute_result",
          "data": {
            "text/plain": [
              "<sqlite3.Cursor at 0x7fb812e34ab0>"
            ]
          },
          "metadata": {},
          "execution_count": 11
        }
      ]
    },
    {
      "cell_type": "code",
      "source": [
        "# committing the current transaction. \n",
        "conn.commit()"
      ],
      "metadata": {
        "id": "WftR4ehnN8mQ"
      },
      "id": "WftR4ehnN8mQ",
      "execution_count": 12,
      "outputs": []
    },
    {
      "cell_type": "markdown",
      "source": [
        "### 1. COUNT the number of unique courses"
      ],
      "metadata": {
        "id": "uZuq1QQWL1Dp"
      },
      "id": "uZuq1QQWL1Dp"
    },
    {
      "cell_type": "code",
      "source": [
        "cursor = conn.execute('SELECT COUNT(DISTINCT course_name) FROM courses;')\n",
        "print(\"Number of unique courses:\", cursor.fetchone()[0])"
      ],
      "metadata": {
        "colab": {
          "base_uri": "https://localhost:8080/"
        },
        "id": "8zVB4WA-L3rB",
        "outputId": "4401d009-30bd-4b5a-98f3-8e7d78c9ad30"
      },
      "id": "8zVB4WA-L3rB",
      "execution_count": 13,
      "outputs": [
        {
          "output_type": "stream",
          "name": "stdout",
          "text": [
            "Number of unique courses: 4\n"
          ]
        }
      ]
    },
    {
      "cell_type": "markdown",
      "source": [
        "### 2. JOIN the tables students and courses and COUNT the number of students with the major Computer Science taking the course Python programming"
      ],
      "metadata": {
        "id": "XOZ6LBOwL8GB"
      },
      "id": "XOZ6LBOwL8GB"
    },
    {
      "cell_type": "code",
      "source": [
        "cursor = conn.execute('''\n",
        "SELECT COUNT(*)\n",
        "FROM students\n",
        "JOIN courses\n",
        "ON students.student_id = courses.student_id\n",
        "WHERE students.major = \"Computer Science\" AND courses.course_name = \"Python programming\";\n",
        "''')\n",
        "print(\"Number of Computer Science students taking Python programming:\", cursor.fetchone()[0])\n"
      ],
      "metadata": {
        "colab": {
          "base_uri": "https://localhost:8080/"
        },
        "id": "FEY-AXPhL8d7",
        "outputId": "9a221186-485f-4f07-a53d-81b80c5b6837"
      },
      "id": "FEY-AXPhL8d7",
      "execution_count": 14,
      "outputs": [
        {
          "output_type": "stream",
          "name": "stdout",
          "text": [
            "Number of Computer Science students taking Python programming: 2\n"
          ]
        }
      ]
    },
    {
      "cell_type": "markdown",
      "source": [
        "### 3. JOIN the tables students and courses and select the students who have grades higher than \"C\", only show their name, major, gpa, course_name and grade"
      ],
      "metadata": {
        "id": "XYS-3OJyL89k"
      },
      "id": "XYS-3OJyL89k"
    },
    {
      "cell_type": "code",
      "source": [
        "cursor = conn.execute('''\n",
        "SELECT name, major, gpa, course_name, grade\n",
        "FROM students\n",
        "JOIN courses\n",
        "ON students.student_id = courses.student_id\n",
        "WHERE grade < \"C\";\n",
        "''')\n",
        "print(\"\\nStudents with grades higher than C:\")\n",
        "\n",
        "# fetch and print the results\n",
        "results = cursor.fetchall()\n",
        "for row in results:\n",
        "    print(row)"
      ],
      "metadata": {
        "colab": {
          "base_uri": "https://localhost:8080/"
        },
        "id": "jMTJMx7aL9Lx",
        "outputId": "53f40090-4f3e-4f31-9434-48ab8b98bdd5"
      },
      "id": "jMTJMx7aL9Lx",
      "execution_count": 15,
      "outputs": [
        {
          "output_type": "stream",
          "name": "stdout",
          "text": [
            "\n",
            "Students with grades higher than C:\n",
            "('John', 'Computer Science', 3.5, 'Python programming', 'A')\n",
            "('Samantha', 'Physics', 3.9, 'Python programming', 'A')\n",
            "('Jane', 'Physics', 3.8, 'Data Structures', 'B')\n",
            "('Bob', 'Engineering', 3.0, 'Database Systems', 'B')\n",
            "('Jessica', 'Engineering', 3.8, 'Database Systems', 'A')\n",
            "('Jacob', 'Physics', 3.4, 'Quantum Mechanics', 'A')\n"
          ]
        }
      ]
    },
    {
      "cell_type": "markdown",
      "source": [
        "\n",
        "## Q3 Aggregate functions, numerical logic and grouping\n",
        "\n",
        "1. Find the average gpa of all students.\n",
        "2. SELECT the student with the maximum gpa, display only their student_id, major and gpa\n",
        "3. SELECT the student with the minimum gpa, display only their student_id, major and gpa\n",
        "4. SELECT the students with a gpa greater than 3.6 in the majors of \"Physics\" and \"Engineering\", display only their student_id, major and gpa\n",
        "5. Group the students by their major and retrieve the average grade of each major.\n",
        "6. SELECT the top 2 students with the highest GPA in each major and order the results by major in ascending order, then by GPA in descending order"
      ],
      "metadata": {
        "id": "aDmaaC8HJf06"
      },
      "id": "aDmaaC8HJf06"
    },
    {
      "cell_type": "markdown",
      "source": [
        "### 1. Find the average gpa of all students"
      ],
      "metadata": {
        "id": "2JAzOcBxMf2d"
      },
      "id": "2JAzOcBxMf2d"
    },
    {
      "cell_type": "code",
      "source": [
        "cursor.execute(\"SELECT AVG(gpa) FROM students\")\n",
        "print(\"Average GPA is:\", cursor.fetchone()[0])"
      ],
      "metadata": {
        "colab": {
          "base_uri": "https://localhost:8080/"
        },
        "id": "UyZ7mp-OEbWJ",
        "outputId": "5de70912-520d-4891-eea4-df8372f209bd"
      },
      "id": "UyZ7mp-OEbWJ",
      "execution_count": 16,
      "outputs": [
        {
          "output_type": "stream",
          "name": "stdout",
          "text": [
            "Average GPA is: 3.5800000000000005\n"
          ]
        }
      ]
    },
    {
      "cell_type": "markdown",
      "source": [
        "### 2. SELECT the student with the maximum gpa, display only their student_id, major and gpa"
      ],
      "metadata": {
        "id": "jnBxXhIUMsGg"
      },
      "id": "jnBxXhIUMsGg"
    },
    {
      "cell_type": "code",
      "source": [
        "cursor.execute(\"\"\"\n",
        "SELECT student_id, major, gpa\n",
        "FROM students\n",
        "WHERE gpa = (SELECT MAX(gpa) FROM students);\n",
        "\"\"\")\n",
        "result = cursor.fetchone()\n",
        "print(f\"The student with the maximum GPA is: ID:{result[0]}, Major:{result[1]}, and GPA:{result[2]}\")"
      ],
      "metadata": {
        "colab": {
          "base_uri": "https://localhost:8080/"
        },
        "id": "XaObyo_DMqTe",
        "outputId": "af891954-5109-4591-cb39-c097592b4e51"
      },
      "id": "XaObyo_DMqTe",
      "execution_count": 17,
      "outputs": [
        {
          "output_type": "stream",
          "name": "stdout",
          "text": [
            "The student with the maximum GPA is: ID:4, Major:Physics, and GPA:3.9\n"
          ]
        }
      ]
    },
    {
      "cell_type": "markdown",
      "source": [
        "\n",
        "### 3. SELECT the student with the minimum gpa, display only their student_id, major and gpa"
      ],
      "metadata": {
        "id": "JlAxfKkXM3qG"
      },
      "id": "JlAxfKkXM3qG"
    },
    {
      "cell_type": "code",
      "source": [
        "cursor.execute(\"\"\"\n",
        "SELECT student_id, major, gpa FROM students WHERE gpa = (SELECT MIN(gpa) FROM students);\n",
        "\"\"\")\n",
        "result = cursor.fetchone()\n",
        "print(f\"The student with the minimum GPA has ID: {result[0]}, Major: {result[1]} and GPA: {result[2]}\")"
      ],
      "metadata": {
        "colab": {
          "base_uri": "https://localhost:8080/"
        },
        "id": "jVDELqQEMqb6",
        "outputId": "c0da0693-2b3e-4038-ca7b-24102371fe7a"
      },
      "id": "jVDELqQEMqb6",
      "execution_count": 18,
      "outputs": [
        {
          "output_type": "stream",
          "name": "stdout",
          "text": [
            "The student with the minimum GPA has ID: 3, Major: Engineering and GPA: 3.0\n"
          ]
        }
      ]
    },
    {
      "cell_type": "markdown",
      "source": [
        "### 4. SELECT the students with a gpa greater than 3.6 in the majors of \"Physics\" and \"Engineering\", display only their student_id, major and gpa"
      ],
      "metadata": {
        "id": "Ifhzlba2NHyD"
      },
      "id": "Ifhzlba2NHyD"
    },
    {
      "cell_type": "code",
      "source": [
        "cursor.execute(\"\"\"\n",
        "SELECT student_id, major, gpa FROM students WHERE (major = 'Physics' OR major = 'Engineering') AND gpa > 3.6;\n",
        "\"\"\")\n",
        "result = cursor.fetchall()\n",
        "for i in result:\n",
        "    print(f\"Student ID: {i[0]}, Major: {i[1]}, and GPA: {i[2]}\")"
      ],
      "metadata": {
        "colab": {
          "base_uri": "https://localhost:8080/"
        },
        "id": "znLwu6HQMqgR",
        "outputId": "7cfa7101-9ace-4ac6-9756-d2ddae89ff2a"
      },
      "id": "znLwu6HQMqgR",
      "execution_count": 19,
      "outputs": [
        {
          "output_type": "stream",
          "name": "stdout",
          "text": [
            "Student ID: 2, Major: Physics, and GPA: 3.8\n",
            "Student ID: 4, Major: Physics, and GPA: 3.9\n",
            "Student ID: 5, Major: Engineering, and GPA: 3.7\n",
            "Student ID: 8, Major: Engineering, and GPA: 3.8\n",
            "Student ID: 10, Major: Physics, and GPA: 3.9\n"
          ]
        }
      ]
    },
    {
      "cell_type": "markdown",
      "source": [
        "### 5. Group the students by their major and retrieve the average grade of each major."
      ],
      "metadata": {
        "id": "mEZDKoPTNReX"
      },
      "id": "mEZDKoPTNReX"
    },
    {
      "cell_type": "code",
      "source": [
        "cursor.execute(\"\"\"\n",
        "SELECT major, AVG(gpa) as average_gpa FROM students GROUP BY major;\n",
        "\"\"\")\n",
        "result = cursor.fetchall()\n",
        "for i in result:\n",
        "    print(f\"Major: {i[0]} and Average GPA is: {i[1]}\")"
      ],
      "metadata": {
        "colab": {
          "base_uri": "https://localhost:8080/"
        },
        "id": "XyK2aNTRNQbH",
        "outputId": "43a198a1-fe65-4a81-f0a1-ca8e097b84d0"
      },
      "id": "XyK2aNTRNQbH",
      "execution_count": 20,
      "outputs": [
        {
          "output_type": "stream",
          "name": "stdout",
          "text": [
            "Major: Computer Science and Average GPA is: 3.4333333333333336\n",
            "Major: Engineering and Average GPA is: 3.5\n",
            "Major: Physics and Average GPA is: 3.75\n"
          ]
        }
      ]
    },
    {
      "cell_type": "markdown",
      "source": [
        "### 6. SELECT the top 2 students with the highest GPA in each major and order the results by major in ascending order, then by GPA in descending order"
      ],
      "metadata": {
        "id": "VnvTIwUMNWou"
      },
      "id": "VnvTIwUMNWou"
    },
    {
      "cell_type": "code",
      "source": [
        "cursor.execute(\"\"\"\n",
        "WITH hgpa AS (\n",
        "  SELECT student_id, major, gpa, \n",
        "    ROW_NUMBER() OVER (PARTITION BY major ORDER BY gpa DESC) AS rank\n",
        "  FROM students\n",
        ")\n",
        "SELECT student_id, major, gpa\n",
        "FROM hgpa\n",
        "WHERE rank <= 2\n",
        "ORDER BY major, gpa DESC;\n",
        "\"\"\")\n",
        "result = cursor.fetchall()\n",
        "for i in result:\n",
        "    print(f\"Student ID: {i[0]}, Major: {i[1]}, and GPA: {i[2]}\")\n"
      ],
      "metadata": {
        "colab": {
          "base_uri": "https://localhost:8080/"
        },
        "id": "55S5C4IBMqj9",
        "outputId": "7bbfd990-c1b6-4e7e-ef58-1ebb47b86167"
      },
      "id": "55S5C4IBMqj9",
      "execution_count": 21,
      "outputs": [
        {
          "output_type": "stream",
          "name": "stdout",
          "text": [
            "Student ID: 6, Major: Computer Science, and GPA: 3.6\n",
            "Student ID: 1, Major: Computer Science, and GPA: 3.5\n",
            "Student ID: 8, Major: Engineering, and GPA: 3.8\n",
            "Student ID: 5, Major: Engineering, and GPA: 3.7\n",
            "Student ID: 4, Major: Physics, and GPA: 3.9\n",
            "Student ID: 10, Major: Physics, and GPA: 3.9\n"
          ]
        }
      ]
    },
    {
      "cell_type": "code",
      "source": [
        "# close the connection\n",
        "conn.close()"
      ],
      "metadata": {
        "id": "0rMtYyNuFjkw"
      },
      "id": "0rMtYyNuFjkw",
      "execution_count": 22,
      "outputs": []
    }
  ],
  "metadata": {
    "kernelspec": {
      "display_name": "Python 3 (ipykernel)",
      "language": "python",
      "name": "python3"
    },
    "language_info": {
      "codemirror_mode": {
        "name": "ipython",
        "version": 3
      },
      "file_extension": ".py",
      "mimetype": "text/x-python",
      "name": "python",
      "nbconvert_exporter": "python",
      "pygments_lexer": "ipython3",
      "version": "3.9.15"
    },
    "colab": {
      "provenance": []
    }
  },
  "nbformat": 4,
  "nbformat_minor": 5
}